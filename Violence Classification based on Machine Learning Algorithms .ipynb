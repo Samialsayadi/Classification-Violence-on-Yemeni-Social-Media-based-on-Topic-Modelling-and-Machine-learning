{
 "cells": [
  {
   "cell_type": "code",
   "execution_count": 23,
   "metadata": {},
   "outputs": [],
   "source": [
    "from sklearn.model_selection import train_test_split\n",
    "from sklearn.metrics import accuracy_score\n",
    "from sklearn.model_selection import cross_val_score\n",
    "import numpy as np\n",
    "from sklearn.neighbors import KNeighborsClassifier\n",
    "from sklearn import model_selection, naive_bayes, svm\n",
    "from sklearn.linear_model import LogisticRegression\n",
    "from sklearn.ensemble import RandomForestRegressor\n",
    "from sklearn.linear_model import SGDClassifier\n",
    "from sklearn.preprocessing import StandardScaler\n",
    "from sklearn.pipeline import make_pipeline\n",
    "from sklearn import tree\n",
    "from sklearn.preprocessing import LabelBinarizer\n",
    "from sklearn.multiclass import OneVsRestClassifier\n",
    "from sklearn.svm import LinearSVC\n",
    "from sklearn.metrics import classification_report\n",
    "from sklearn.neural_network import MLPClassifier\n",
    "from sklearn.preprocessing import PolynomialFeatures\n",
    "from sklearn.pipeline import make_pipeline\n",
    "from sklearn.linear_model import LinearRegression\n",
    "from sklearn.ensemble import BaggingClassifier\n",
    "from sklearn.neighbors import KNeighborsClassifier\n",
    "from sklearn import *\n",
    "from sklearn.feature_extraction.text import TfidfVectorizer\n",
    "from sklearn.ensemble import GradientBoostingClassifier\n",
    "from sklearn.neighbors.nearest_centroid import NearestCentroid\n",
    "import pandas as pd"
   ]
  },
  {
   "cell_type": "code",
   "execution_count": null,
   "metadata": {},
   "outputs": [],
   "source": []
  },
  {
   "cell_type": "code",
   "execution_count": 24,
   "metadata": {},
   "outputs": [],
   "source": [
    "Corpus = pd.read_csv(r\"../Violence in Yemens Social Media.csv\")"
   ]
  },
  {
   "cell_type": "markdown",
   "metadata": {},
   "source": [
    "# Readto_csvtaset "
   ]
  },
  {
   "cell_type": "code",
   "execution_count": 25,
   "metadata": {},
   "outputs": [],
   "source": [
    "Train_X, Test_X, Train_Y, Test_Y = model_selection.train_test_split(Corpus['Text'],Corpus['Dominant_Topic'],test_size=0.2)"
   ]
  },
  {
   "cell_type": "markdown",
   "metadata": {},
   "source": [
    "# convert into Tfidf Vectorizer"
   ]
  },
  {
   "cell_type": "code",
   "execution_count": 26,
   "metadata": {},
   "outputs": [],
   "source": [
    "Tfidf_vect = TfidfVectorizer(max_features=5000)\n",
    "Tfidf_vect.fit(Corpus['Text'])\n",
    "Train_X_Tfidf = Tfidf_vect.transform(Train_X)\n",
    "Test_X_Tfidf = Tfidf_vect.transform(Test_X)"
   ]
  },
  {
   "cell_type": "markdown",
   "metadata": {},
   "source": [
    "# Naive Bayes Classifier"
   ]
  },
  {
   "cell_type": "code",
   "execution_count": 27,
   "metadata": {},
   "outputs": [
    {
     "name": "stdout",
     "output_type": "stream",
     "text": [
      "Naive Bayes Accuracy Score ->  93.5638746512684\n"
     ]
    }
   ],
   "source": [
    "# fit the training dataset on the NB classifier\n",
    "Naive = naive_bayes.MultinomialNB()\n",
    "Naive.fit(Train_X_Tfidf,Train_Y)\n",
    "# predict the labels on validation dataset\n",
    "predictions_NB = Naive.predict(Test_X_Tfidf)\n",
    "\n",
    "# Use accuracy_score function to get the accuracy\n",
    "print(\"Naive Bayes Accuracy Score -> \",accuracy_score(predictions_NB, Test_Y)*100)\n"
   ]
  },
  {
   "cell_type": "code",
   "execution_count": 28,
   "metadata": {},
   "outputs": [],
   "source": [
    "term_topic0=['violence', 'organization', 'government', 'practice', 'objective', 'social', 'religious', 'state', 'hundred', 'unlawful']\n",
    "term_topic1=['terrorist', 'militia', 'people', 'yemeni', 'houthi', 'year', 'eman', 'girl', 'village', 'support']\n",
    "term_topic3=['mine', 'international', 'home', 'plant', 'city', 'displace', 'terror', 'blow', 'threat', 'face']\n",
    "term_topic4=['group', 'crime', 'life', 'take', 'racist', 'believe', 'call', 'control', 'send', 'carry']\n",
    "term_topic5=['child', 'kill', 'recruit', 'political', 'houthis', 'civilian', 'war', 'woman', 'force', 'taiz']\n"
   ]
  },
  {
   "cell_type": "code",
   "execution_count": 29,
   "metadata": {},
   "outputs": [],
   "source": [
    "Topic0=\"Religious organization violence\"\n",
    "Topic1=\"Houthi militias terrorize Yemeni people\"\n",
    "Topic3=\"international peace threats\"\n",
    "Topic4=\"racist tendencies\"\n",
    "Topic5=\"Recruitment and killing of children\""
   ]
  },
  {
   "cell_type": "code",
   "execution_count": 30,
   "metadata": {},
   "outputs": [
    {
     "name": "stdout",
     "output_type": "stream",
     "text": [
      "                                         precision    recall  f1-score   support\n",
      "\n",
      "        Religious organization violence     0.8900    0.9786    0.9322      1124\n",
      "Houthi militias terrorize Yemeni people     0.9785    0.9202    0.9484      8987\n",
      "            international peace threats     0.8631    0.9439    0.9017       962\n",
      "                      racist tendencies     0.9002    0.9647    0.9314      1899\n",
      "    Recruitment and killing of children     0.8760    0.9467    0.9100      2441\n",
      "\n",
      "                               accuracy                         0.9356     15413\n",
      "                              macro avg     0.9016    0.9508    0.9247     15413\n",
      "                           weighted avg     0.9390    0.9356    0.9362     15413\n",
      "\n"
     ]
    }
   ],
   "source": [
    "target_names = [Topic0, Topic1, Topic3, Topic4, Topic5]\n",
    "report=classification_report(predictions_NB, Test_Y, target_names=target_names, digits=4)\n",
    "print(report)"
   ]
  },
  {
   "cell_type": "markdown",
   "metadata": {},
   "source": [
    "# Rocchio classification"
   ]
  },
  {
   "cell_type": "code",
   "execution_count": 31,
   "metadata": {},
   "outputs": [],
   "source": [
    "model = NearestCentroid()\n",
    "model.fit(Train_X_Tfidf, Train_Y)\n",
    "predictions_RC = model.predict(Test_X_Tfidf)"
   ]
  },
  {
   "cell_type": "code",
   "execution_count": 32,
   "metadata": {},
   "outputs": [
    {
     "name": "stdout",
     "output_type": "stream",
     "text": [
      "                                         precision    recall  f1-score   support\n",
      "\n",
      "        Religious organization violence     0.6214    0.9771    0.7596       786\n",
      "Houthi militias terrorize Yemeni people     0.9381    0.8673    0.9013      9142\n",
      "            international peace threats     0.7196    0.8346    0.7728       907\n",
      "                      racist tendencies     0.7887    0.8917    0.8370      1800\n",
      "    Recruitment and killing of children     0.8203    0.7790    0.7991      2778\n",
      "\n",
      "                               accuracy                         0.8579     15413\n",
      "                              macro avg     0.7776    0.8699    0.8140     15413\n",
      "                           weighted avg     0.8704    0.8579    0.8606     15413\n",
      "\n"
     ]
    }
   ],
   "source": [
    "target_names = [Topic0, Topic1, Topic3, Topic4, Topic5]\n",
    "report=classification_report(predictions_RC, Test_Y, target_names=target_names, digits=4)\n",
    "print(report)"
   ]
  },
  {
   "cell_type": "markdown",
   "metadata": {},
   "source": [
    "# Boosting and Bagging"
   ]
  },
  {
   "cell_type": "code",
   "execution_count": 33,
   "metadata": {},
   "outputs": [],
   "source": [
    "model = GradientBoostingClassifier(n_estimators=100)\n",
    "model.fit(Train_X_Tfidf, Train_Y)\n",
    "predictions_BB = model.predict(Test_X_Tfidf)"
   ]
  },
  {
   "cell_type": "code",
   "execution_count": 34,
   "metadata": {},
   "outputs": [
    {
     "name": "stdout",
     "output_type": "stream",
     "text": [
      "                                         precision    recall  f1-score   support\n",
      "\n",
      "        Religious organization violence     0.8625    0.9852    0.9198      1082\n",
      "Houthi militias terrorize Yemeni people     0.9878    0.9085    0.9465      9190\n",
      "            international peace threats     0.8032    0.9871    0.8857       856\n",
      "                      racist tendencies     0.8629    0.9777    0.9167      1796\n",
      "    Recruitment and killing of children     0.8950    0.9486    0.9210      2489\n",
      "\n",
      "                               accuracy                         0.9328     15413\n",
      "                              macro avg     0.8823    0.9614    0.9179     15413\n",
      "                           weighted avg     0.9392    0.9328    0.9337     15413\n",
      "\n"
     ]
    }
   ],
   "source": [
    "target_names = [Topic0, Topic1, Topic3, Topic4, Topic5]\n",
    "report=classification_report(predictions_BB, Test_Y, target_names=target_names, digits=4)\n",
    "print(report)"
   ]
  },
  {
   "cell_type": "markdown",
   "metadata": {},
   "source": [
    "# Boosting is a Ensemble learning meta-algorithm "
   ]
  },
  {
   "cell_type": "code",
   "execution_count": 35,
   "metadata": {},
   "outputs": [],
   "source": [
    "model=BaggingClassifier(KNeighborsClassifier())\n",
    "model.fit(Train_X_Tfidf, Train_Y)\n",
    "predictions_Bag = model.predict(Test_X_Tfidf)"
   ]
  },
  {
   "cell_type": "code",
   "execution_count": 36,
   "metadata": {},
   "outputs": [
    {
     "name": "stdout",
     "output_type": "stream",
     "text": [
      "                                         precision    recall  f1-score   support\n",
      "\n",
      "        Religious organization violence     0.9474    0.9758    0.9614      1200\n",
      "Houthi militias terrorize Yemeni people     0.9860    0.9624    0.9741      8660\n",
      "            international peace threats     0.9259    0.9760    0.9502       998\n",
      "                      racist tendencies     0.9464    0.9688    0.9575      1988\n",
      "    Recruitment and killing of children     0.9409    0.9669    0.9537      2567\n",
      "\n",
      "                               accuracy                         0.9659     15413\n",
      "                              macro avg     0.9493    0.9700    0.9594     15413\n",
      "                           weighted avg     0.9665    0.9659    0.9660     15413\n",
      "\n"
     ]
    }
   ],
   "source": [
    "target_names = [Topic0, Topic1, Topic3, Topic4, Topic5]\n",
    "report=classification_report(predictions_Bag, Test_Y, target_names=target_names, digits=4)\n",
    "print(report)"
   ]
  },
  {
   "cell_type": "markdown",
   "metadata": {},
   "source": [
    "# K-nearest Neighbor"
   ]
  },
  {
   "cell_type": "code",
   "execution_count": 37,
   "metadata": {},
   "outputs": [],
   "source": [
    "model = KNeighborsClassifier()\n",
    "model.fit(Train_X_Tfidf, Train_Y)\n",
    "predictions_KNN = model.predict(Test_X_Tfidf)"
   ]
  },
  {
   "cell_type": "code",
   "execution_count": 38,
   "metadata": {},
   "outputs": [
    {
     "name": "stdout",
     "output_type": "stream",
     "text": [
      "                                         precision    recall  f1-score   support\n",
      "\n",
      "        Religious organization violence     0.9506    0.9695    0.9600      1212\n",
      "Houthi militias terrorize Yemeni people     0.9844    0.9611    0.9726      8657\n",
      "            international peace threats     0.9202    0.9690    0.9439       999\n",
      "                      racist tendencies     0.9440    0.9687    0.9562      1983\n",
      "    Recruitment and killing of children     0.9393    0.9672    0.9531      2562\n",
      "\n",
      "                               accuracy                         0.9643     15413\n",
      "                              macro avg     0.9477    0.9671    0.9572     15413\n",
      "                           weighted avg     0.9649    0.9643    0.9644     15413\n",
      "\n"
     ]
    }
   ],
   "source": [
    "target_names = [Topic0, Topic1, Topic3, Topic4, Topic5]\n",
    "report=classification_report(predictions_KNN, Test_Y, target_names=target_names, digits=4)\n",
    "print(report)"
   ]
  },
  {
   "cell_type": "markdown",
   "metadata": {},
   "source": [
    "# Support Vector Machine (SVM)"
   ]
  },
  {
   "cell_type": "code",
   "execution_count": 39,
   "metadata": {},
   "outputs": [],
   "source": [
    "model = LinearSVC()\n",
    "model.fit(Train_X_Tfidf, Train_Y)\n",
    "predictions_SVM = model.predict(Test_X_Tfidf)"
   ]
  },
  {
   "cell_type": "code",
   "execution_count": 40,
   "metadata": {},
   "outputs": [
    {
     "name": "stdout",
     "output_type": "stream",
     "text": [
      "                                         precision    recall  f1-score   support\n",
      "\n",
      "        Religious organization violence     0.9693    0.9844    0.9768      1217\n",
      "Houthi militias terrorize Yemeni people     0.9928    0.9853    0.9890      8516\n",
      "            international peace threats     0.9582    0.9805    0.9692      1028\n",
      "                      racist tendencies     0.9769    0.9774    0.9771      2034\n",
      "    Recruitment and killing of children     0.9780    0.9855    0.9817      2618\n",
      "\n",
      "                               accuracy                         0.9839     15413\n",
      "                              macro avg     0.9750    0.9826    0.9788     15413\n",
      "                           weighted avg     0.9840    0.9839    0.9839     15413\n",
      "\n"
     ]
    }
   ],
   "source": [
    "target_names = [Topic0, Topic1, Topic3, Topic4, Topic5]\n",
    "\n",
    "report=classification_report(predictions_SVM, Test_Y, target_names=target_names, digits=4)\n",
    "print(report)"
   ]
  },
  {
   "cell_type": "markdown",
   "metadata": {},
   "source": [
    "# Decision Tree"
   ]
  },
  {
   "cell_type": "code",
   "execution_count": 41,
   "metadata": {},
   "outputs": [],
   "source": [
    "model = tree.DecisionTreeClassifier()\n",
    "model.fit(Train_X_Tfidf, Train_Y)\n",
    "predictions_DT = model.predict(Test_X_Tfidf)"
   ]
  },
  {
   "cell_type": "code",
   "execution_count": 42,
   "metadata": {},
   "outputs": [
    {
     "name": "stdout",
     "output_type": "stream",
     "text": [
      "                                         precision    recall  f1-score   support\n",
      "\n",
      "        Religious organization violence     0.9652    0.9731    0.9691      1226\n",
      "Houthi militias terrorize Yemeni people     0.9833    0.9817    0.9825      8466\n",
      "            international peace threats     0.9515    0.9644    0.9579      1038\n",
      "                      racist tendencies     0.9710    0.9644    0.9677      2049\n",
      "    Recruitment and killing of children     0.9719    0.9734    0.9727      2634\n",
      "\n",
      "                               accuracy                         0.9761     15413\n",
      "                              macro avg     0.9686    0.9714    0.9700     15413\n",
      "                           weighted avg     0.9762    0.9761    0.9761     15413\n",
      "\n"
     ]
    }
   ],
   "source": [
    "target_names = [Topic0, Topic1, Topic3, Topic4, Topic5]\n",
    "report=classification_report(predictions_DT, Test_Y, target_names=target_names, digits=4)\n",
    "print(report)"
   ]
  },
  {
   "cell_type": "markdown",
   "metadata": {},
   "source": [
    "# Conditional Random Field (CRF)"
   ]
  },
  {
   "cell_type": "code",
   "execution_count": 43,
   "metadata": {},
   "outputs": [],
   "source": [
    "model = tree.DecisionTreeClassifier()\n",
    "model.fit(Train_X_Tfidf, Train_Y)\n",
    "predictions_DT = model.predict(Test_X_Tfidf)"
   ]
  },
  {
   "cell_type": "code",
   "execution_count": 44,
   "metadata": {},
   "outputs": [
    {
     "name": "stdout",
     "output_type": "stream",
     "text": [
      "                                         precision    recall  f1-score   support\n",
      "\n",
      "        Religious organization violence     0.9644    0.9762    0.9703      1221\n",
      "Houthi militias terrorize Yemeni people     0.9846    0.9814    0.9830      8480\n",
      "            international peace threats     0.9506    0.9615    0.9560      1040\n",
      "                      racist tendencies     0.9700    0.9705    0.9703      2034\n",
      "    Recruitment and killing of children     0.9719    0.9719    0.9719      2638\n",
      "\n",
      "                               accuracy                         0.9766     15413\n",
      "                              macro avg     0.9683    0.9723    0.9703     15413\n",
      "                           weighted avg     0.9766    0.9766    0.9766     15413\n",
      "\n"
     ]
    }
   ],
   "source": [
    "target_names = [Topic0, Topic1, Topic3, Topic4, Topic5]\n",
    "report=classification_report(predictions_DT, Test_Y, target_names=target_names, digits=4)\n",
    "print(report)"
   ]
  },
  {
   "cell_type": "code",
   "execution_count": null,
   "metadata": {},
   "outputs": [],
   "source": []
  }
 ],
 "metadata": {
  "kernelspec": {
   "display_name": "Python 3",
   "language": "python",
   "name": "python3"
  },
  "language_info": {
   "codemirror_mode": {
    "name": "ipython",
    "version": 3
   },
   "file_extension": ".py",
   "mimetype": "text/x-python",
   "name": "python",
   "nbconvert_exporter": "python",
   "pygments_lexer": "ipython3",
   "version": "3.7.4"
  }
 },
 "nbformat": 4,
 "nbformat_minor": 4
}
