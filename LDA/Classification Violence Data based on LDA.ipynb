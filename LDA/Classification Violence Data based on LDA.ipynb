{
 "cells": [
  {
   "cell_type": "code",
   "execution_count": 1,
   "metadata": {},
   "outputs": [
    {
     "name": "stderr",
     "output_type": "stream",
     "text": [
      "/opt/anaconda3/lib/python3.7/site-packages/ipykernel/pylab/backend_inline.py:164: DeprecationWarning: `configure_inline_support` is deprecated since IPython 7.23, directly use `matplotlib_inline.backend_inline.configure_inline_support()`\n",
      "  configure_inline_support(ip, backend)\n"
     ]
    }
   ],
   "source": [
    "import re\n",
    "import numpy as np\n",
    "import pandas as pd\n",
    "from pprint import pprint\n",
    "from nltk import tokenize\n",
    "from nltk import word_tokenize\n",
    "# Gensim\n",
    "import gensim\n",
    "import gensim.corpora as corpora\n",
    "from gensim.utils import simple_preprocess\n",
    "from gensim.models import CoherenceModel\n",
    "import nltk\n",
    "# spacy for lemmatization\n",
    "import spacy\n",
    "\n",
    "# Plotting tools\n",
    "import pyLDAvis\n",
    "import pyLDAvis.gensim  # don't skip this\n",
    "import matplotlib.pyplot as plt\n",
    "%matplotlib inline\n",
    "\n",
    "# Enable logging for gensim - optional\n",
    "import logging\n",
    "logging.basicConfig(format='%(asctime)s : %(levelname)s : %(message)s', level=logging.ERROR)\n",
    "\n",
    "import warnings\n",
    "warnings.filterwarnings(\"ignore\",category=DeprecationWarning)"
   ]
  },
  {
   "cell_type": "code",
   "execution_count": 2,
   "metadata": {},
   "outputs": [],
   "source": [
    "from nltk.corpus import stopwords\n",
    "stop_words = stopwords.words('english')\n",
    "stop_words.extend(['from', 'subject', 're', 'edu', 'use'])"
   ]
  },
  {
   "cell_type": "code",
   "execution_count": 3,
   "metadata": {},
   "outputs": [],
   "source": [
    "data=pd.read_csv('Detection_Violence_Dataset.csv')\n"
   ]
  },
  {
   "cell_type": "markdown",
   "metadata": {},
   "source": [
    "# Convert to list"
   ]
  },
  {
   "cell_type": "code",
   "execution_count": 4,
   "metadata": {},
   "outputs": [],
   "source": [
    "# Convert to list\n",
    "data =data.Text.values.tolist()\n"
   ]
  },
  {
   "cell_type": "code",
   "execution_count": 5,
   "metadata": {},
   "outputs": [
    {
     "name": "stdout",
     "output_type": "stream",
     "text": [
      "[['they', 'chant', 'death', 'america', 'plead', 'new', 'administration', 'raise', 'classification', 'terrorists', 'they', 'steal', 'food', 'mouths', 'hungry', 'tell', 'world', 'starvation', 'yemen', 'they', 'kill', 'yemenis', 'blow', 'homes', 'recruiy']]\n"
     ]
    }
   ],
   "source": [
    "def sent_to_words(sentences):\n",
    "    for sentence in sentences:\n",
    "        yield(gensim.utils.simple_preprocess(str(sentence), deacc=True))  # deacc=True removes punctuations\n",
    "\n",
    "data_words = list(sent_to_words(data))\n",
    "\n",
    "print(data_words[:1])"
   ]
  },
  {
   "cell_type": "markdown",
   "metadata": {},
   "source": [
    "# Build the bigram and trigram models"
   ]
  },
  {
   "cell_type": "code",
   "execution_count": 6,
   "metadata": {},
   "outputs": [
    {
     "name": "stdout",
     "output_type": "stream",
     "text": [
      "['they', 'chant', 'death', 'america', 'plead_new_administration', 'raise', 'classification', 'terrorists', 'they', 'steal', 'food', 'mouths', 'hungry_tell', 'world', 'starvation', 'yemen', 'they', 'kill', 'yemenis', 'blow', 'homes', 'recruiy']\n"
     ]
    }
   ],
   "source": [
    "# Build the bigram and trigram models\n",
    "bigram = gensim.models.Phrases(data_words, min_count=5, threshold=100) # higher threshold fewer phrases.\n",
    "trigram = gensim.models.Phrases(bigram[data_words], threshold=100)  \n",
    "\n",
    "# Faster way to get a sentence clubbed as a trigram/bigram\n",
    "bigram_mod = gensim.models.phrases.Phraser(bigram)\n",
    "trigram_mod = gensim.models.phrases.Phraser(trigram)\n",
    "\n",
    "# See trigram example\n",
    "print(trigram_mod[bigram_mod[data_words[0]]])"
   ]
  },
  {
   "cell_type": "code",
   "execution_count": 8,
   "metadata": {},
   "outputs": [],
   "source": [
    "\n",
    "def make_bigrams(texts):\n",
    "    return [bigram_mod[doc] for doc in texts]\n",
    "\n",
    "def make_trigrams(texts):\n",
    "    return [trigram_mod[bigram_mod[doc]] for doc in texts]\n",
    "\n",
    "def lemmatization(texts, allowed_postags=['NOUN', 'ADJ', 'VERB', 'ADV']):\n",
    "    \"\"\"https://spacy.io/api/annotation\"\"\"\n",
    "    texts_out = []\n",
    "    for sent in texts:\n",
    "        doc = nlp(\" \".join(sent)) \n",
    "        texts_out.append([token.lemma_ for token in doc if token.pos_ in allowed_postags])\n",
    "    return texts_out"
   ]
  },
  {
   "cell_type": "markdown",
   "metadata": {},
   "source": [
    "# Do lemmatization keeping only noun, adj, vb, adv"
   ]
  },
  {
   "cell_type": "code",
   "execution_count": 9,
   "metadata": {},
   "outputs": [
    {
     "name": "stdout",
     "output_type": "stream",
     "text": [
      "[['chant', 'death', 'america', 'plead_new', 'administration', 'raise', 'classification', 'terrorist', 'steal', 'food', 'mouth', 'hungry', 'tell', 'world', 'starvation', 'yeman', 'kill', 'yemenis', 'blow', 'home', 'recruiy']]\n"
     ]
    }
   ],
   "source": [
    "# Remove Stop Words\n",
    "data_words_nostops =  data_words\n",
    "\n",
    "# Form Bigrams\n",
    "data_words_bigrams = make_bigrams(data_words_nostops)\n",
    "\n",
    "# Initialize spacy 'en' model, keeping only tagger component (for efficiency)\n",
    "# python3 -m spacy download en\n",
    "nlp = spacy.load('en', disable=['parser', 'ner'])\n",
    "\n",
    "# Do lemmatization keeping only noun, adj, vb, adv\n",
    "data_lemmatized = lemmatization(data_words_bigrams, allowed_postags=['NOUN', 'ADJ', 'VERB', 'ADV'])\n",
    "\n",
    "print(data_lemmatized[:1])"
   ]
  },
  {
   "cell_type": "markdown",
   "metadata": {},
   "source": [
    "# Create Dictionary, Corpus Term and Document Frequency"
   ]
  },
  {
   "cell_type": "code",
   "execution_count": 10,
   "metadata": {},
   "outputs": [
    {
     "name": "stdout",
     "output_type": "stream",
     "text": [
      "[[(0, 1), (1, 1), (2, 1), (3, 1), (4, 1), (5, 1), (6, 1), (7, 1), (8, 1), (9, 1), (10, 1), (11, 1), (12, 1), (13, 1), (14, 1), (15, 1), (16, 1), (17, 1), (18, 1), (19, 1), (20, 1)]]\n"
     ]
    }
   ],
   "source": [
    "# Create Dictionary\n",
    "id2word = corpora.Dictionary(data_lemmatized)\n",
    "# Create Corpus\n",
    "texts = data_lemmatized\n",
    "\n",
    "# Term Document Frequency\n",
    "corpus = [id2word.doc2bow(text) for text in texts]\n",
    "\n",
    "# View\n",
    "print(corpus[:1])"
   ]
  },
  {
   "cell_type": "code",
   "execution_count": 11,
   "metadata": {},
   "outputs": [
    {
     "data": {
      "text/plain": [
       "'administration'"
      ]
     },
     "execution_count": 11,
     "metadata": {},
     "output_type": "execute_result"
    }
   ],
   "source": [
    "id2word[0]"
   ]
  },
  {
   "cell_type": "markdown",
   "metadata": {},
   "source": [
    "# LDA Model"
   ]
  },
  {
   "cell_type": "code",
   "execution_count": 12,
   "metadata": {},
   "outputs": [],
   "source": [
    "lda_model = gensim.models.ldamodel.LdaModel(corpus=corpus,\n",
    "                                           id2word=id2word,\n",
    "                                           num_topics=10, \n",
    "                                           random_state=100,\n",
    "                                           update_every=1,\n",
    "                                           chunksize=100,\n",
    "                                           passes=50,\n",
    "                                           alpha='auto',\n",
    "                                           per_word_topics=True)"
   ]
  },
  {
   "cell_type": "code",
   "execution_count": 13,
   "metadata": {},
   "outputs": [
    {
     "name": "stdout",
     "output_type": "stream",
     "text": [
      "[(0,\n",
      "  '0.106*\"child\" + 0.090*\"kill\" + 0.064*\"recruit\" + 0.044*\"thousand\" + '\n",
      "  '0.041*\"home\" + 0.040*\"houthi\" + 0.038*\"mine\" + 0.037*\"woman\" + '\n",
      "  '0.032*\"yemeni\" + 0.031*\"militia\"'),\n",
      " (1,\n",
      "  '0.077*\"house\" + 0.039*\"tweet\" + 0.035*\"movement\" + 0.034*\"work\" + '\n",
      "  '0.032*\"may\" + 0.029*\"would\" + 0.026*\"sanaa\" + 0.024*\"say\" + 0.024*\"worship\" '\n",
      "  '+ 0.024*\"houthis\"'),\n",
      " (2,\n",
      "  '0.129*\"organization\" + 0.045*\"houthi\" + 0.041*\"militia\" + 0.039*\"many\" + '\n",
      "  '0.037*\"face\" + 0.034*\"old\" + 0.033*\"terrorist\" + 0.033*\"citizen\" + '\n",
      "  '0.029*\"know\" + 0.025*\"back\"'),\n",
      " (3,\n",
      "  '0.045*\"family\" + 0.038*\"believe\" + 0.037*\"houthis\" + 0.037*\"front\" + '\n",
      "  '0.029*\"mean\" + 0.028*\"weapon\" + 0.028*\"innocent\" + 0.025*\"violate\" + '\n",
      "  '0.024*\"medium\" + 0.024*\"kid\"'),\n",
      " (4,\n",
      "  '0.102*\"yemeni\" + 0.091*\"houthis\" + 0.085*\"people\" + 0.048*\"war\" + '\n",
      "  '0.042*\"right\" + 0.035*\"force\" + 0.022*\"racist\" + 0.021*\"nazi\" + '\n",
      "  '0.020*\"population\" + 0.018*\"taiz\"'),\n",
      " (5,\n",
      "  '0.053*\"year\" + 0.033*\"city\" + 0.027*\"girl\" + 0.026*\"houthis\" + '\n",
      "  '0.025*\"village\" + 0.025*\"support\" + 0.021*\"result\" + 0.018*\"limb\" + '\n",
      "  '0.018*\"qaeda\" + 0.017*\"lose\"'),\n",
      " (6,\n",
      "  '0.116*\"amp\" + 0.076*\"death\" + 0.043*\"houthis\" + 0.030*\"fight\" + '\n",
      "  '0.028*\"terror\" + 0.025*\"take\" + 0.023*\"slogan\" + 0.021*\"america\" + '\n",
      "  '0.018*\"friend\" + 0.018*\"bomb\"'),\n",
      " (7,\n",
      "  '0.070*\"houthi\" + 0.054*\"militia\" + 0.050*\"yeman\" + 0.033*\"terrorism\" + '\n",
      "  '0.031*\"violence\" + 0.024*\"international\" + 0.019*\"houthis\" + '\n",
      "  '0.019*\"government\" + 0.017*\"aid\" + 0.015*\"control\"'),\n",
      " (8,\n",
      "  '0.155*\"terrorist\" + 0.121*\"group\" + 0.105*\"houthi\" + 0.043*\"crime\" + '\n",
      "  '0.039*\"world\" + 0.034*\"yeman\" + 0.028*\"eman\" + 0.026*\"humanitarian\" + '\n",
      "  '0.025*\"journalist\" + 0.022*\"destroy\"'),\n",
      " (9,\n",
      "  '0.100*\"political\" + 0.076*\"civilian\" + 0.074*\"human\" + 0.047*\"objective\" + '\n",
      "  '0.032*\"torture\" + 0.031*\"isis\" + 0.030*\"cause\" + 0.028*\"area\" + '\n",
      "  '0.028*\"designate\" + 0.026*\"freedom\"')]\n"
     ]
    }
   ],
   "source": [
    "# Print the Keyword in the 10 topics\n",
    "pprint(lda_model.print_topics())\n",
    "doc_lda = lda_model[corpus]"
   ]
  },
  {
   "cell_type": "markdown",
   "metadata": {},
   "source": [
    "# Compute Perplexity"
   ]
  },
  {
   "cell_type": "code",
   "execution_count": 14,
   "metadata": {},
   "outputs": [
    {
     "name": "stdout",
     "output_type": "stream",
     "text": [
      "\n",
      "Perplexity:  -6.9172375005531865\n",
      "\n",
      "Coherence Score:  0.3277628389383222\n"
     ]
    }
   ],
   "source": [
    "# Compute Perplexity\n",
    "print('\\nPerplexity: ', lda_model.log_perplexity(corpus))  # a measure of how good the model is. lower the better.\n",
    "\n",
    "# Compute Coherence Score\n",
    "coherence_model_lda = CoherenceModel(model=lda_model, texts=data_lemmatized, dictionary=id2word, coherence='c_v')\n",
    "coherence_lda = coherence_model_lda.get_coherence()\n",
    "print('\\nCoherence Score: ', coherence_lda)"
   ]
  },
  {
   "cell_type": "markdown",
   "metadata": {},
   "source": [
    "# Visualize the topics-keywords"
   ]
  },
  {
   "cell_type": "code",
   "execution_count": 173,
   "metadata": {},
   "outputs": [
    {
     "data": {
      "text/plain": [
       "'pyLDAvis.enable_notebook()\\nvis = pyLDAvis.gensim.prepare(lda_model, corpus, id2word)\\nvis'"
      ]
     },
     "execution_count": 173,
     "metadata": {},
     "output_type": "execute_result"
    }
   ],
   "source": [
    "'''pyLDAvis.enable_notebook()\n",
    "vis = pyLDAvis.gensim.prepare(lda_model, corpus, id2word)\n",
    "vis'''"
   ]
  },
  {
   "cell_type": "markdown",
   "metadata": {},
   "source": [
    "# Improve LDA wrapper by Mallet Model"
   ]
  },
  {
   "cell_type": "code",
   "execution_count": 16,
   "metadata": {},
   "outputs": [],
   "source": [
    "mallet_path = 'mallet-2.0.8/bin/mallet' # update this path\n",
    "ldamallet = gensim.models.wrappers.LdaMallet(mallet_path, corpus=corpus, num_topics=10, id2word=id2word)"
   ]
  },
  {
   "cell_type": "markdown",
   "metadata": {},
   "source": [
    "# Compute Coherence Score"
   ]
  },
  {
   "cell_type": "code",
   "execution_count": 17,
   "metadata": {},
   "outputs": [
    {
     "name": "stdout",
     "output_type": "stream",
     "text": [
      "\n",
      "Coherence Score:  0.33089618770702484\n"
     ]
    }
   ],
   "source": [
    "# Show Topics\n",
    "#pprint(ldamallet.show_topics(formatted=False))\n",
    "\n",
    "# Compute Coherence Score\n",
    "coherence_model_ldamallet = CoherenceModel(model=ldamallet, texts=data_lemmatized, dictionary=id2word, coherence='c_v')\n",
    "coherence_ldamallet = coherence_model_ldamallet.get_coherence()\n",
    "print('\\nCoherence Score: ', coherence_ldamallet)"
   ]
  },
  {
   "cell_type": "markdown",
   "metadata": {},
   "source": [
    "# compute Coherence values"
   ]
  },
  {
   "cell_type": "code",
   "execution_count": 18,
   "metadata": {},
   "outputs": [],
   "source": [
    "def compute_coherence_values(dictionary, corpus, texts, limit, start=1, step=2):\n",
    "    \"\"\"\n",
    "    Compute c_v coherence for various number of topics\n",
    "\n",
    "    Parameters:\n",
    "    ----------\n",
    "    dictionary : Gensim dictionary\n",
    "    corpus : Gensim corpus\n",
    "    texts : List of input texts\n",
    "    limit : Max num of topics\n",
    "\n",
    "    Returns:\n",
    "    -------\n",
    "    model_list : List of LDA topic models\n",
    "    coherence_values : Coherence values corresponding to the LDA model with respective number of topics\n",
    "    \"\"\"\n",
    "    coherence_values = []\n",
    "    model_list = []\n",
    "    for num_topics in range(start, limit, step):\n",
    "        model = gensim.models.wrappers.LdaMallet(mallet_path, corpus=corpus, num_topics=num_topics, id2word=id2word)\n",
    "        model_list.append(model)\n",
    "        coherencemodel = CoherenceModel(model=model, texts=texts, dictionary=dictionary, coherence='c_v')\n",
    "        coherence_values.append(coherencemodel.get_coherence())\n",
    "\n",
    "    return model_list, coherence_values"
   ]
  },
  {
   "cell_type": "code",
   "execution_count": 19,
   "metadata": {},
   "outputs": [],
   "source": [
    "model_list, coherence_values = compute_coherence_values(dictionary=id2word, corpus=corpus, texts=data_lemmatized, start=1, limit=10, step=2)\n"
   ]
  },
  {
   "cell_type": "code",
   "execution_count": 20,
   "metadata": {},
   "outputs": [
    {
     "data": {
      "text/plain": [
       "[('yeman', 0.08177770696690477),\n",
       " ('houthi', 0.06985492622392168),\n",
       " ('yemeni', 0.052152207971534026),\n",
       " ('terrorism', 0.047655717535427564),\n",
       " ('house', 0.02398718323198527),\n",
       " ('life', 0.022765695672570523),\n",
       " ('control', 0.02072103171441975),\n",
       " ('result', 0.018738327270152334),\n",
       " ('region', 0.01653433884773007),\n",
       " ('face', 0.016242243996565674)]"
      ]
     },
     "execution_count": 20,
     "metadata": {},
     "output_type": "execute_result"
    }
   ],
   "source": [
    "optimal_model = model_list[4]\n",
    "optimal_model.show_topic(0)"
   ]
  },
  {
   "cell_type": "code",
   "execution_count": 21,
   "metadata": {},
   "outputs": [
    {
     "data": {
      "image/png": "[encoded data removed]",
      "text/plain": [
       "<Figure size 432x288 with 1 Axes>"
      ]
     },
     "metadata": {
      "needs_background": "light"
     },
     "output_type": "display_data"
    }
   ],
   "source": [
    "# Show graph\n",
    "limit=10; start=0; step=2;\n",
    "x = range(start, limit, step)\n",
    "plt.plot(x, coherence_values)\n",
    "plt.xlabel(\"Num Topics\")\n",
    "plt.ylabel(\"Coherence score\")\n",
    "plt.legend((\"coherence_values\"), loc='best')\n",
    "plt.show()"
   ]
  },
  {
   "cell_type": "code",
   "execution_count": 22,
   "metadata": {},
   "outputs": [
    {
     "name": "stdout",
     "output_type": "stream",
     "text": [
      "[0.2105639896580787, 0.3049681066369004, 0.2559020724034521, 0.31943977844735577, 0.32508870903110176]\n"
     ]
    }
   ],
   "source": [
    "print(coherence_values)"
   ]
  },
  {
   "cell_type": "code",
   "execution_count": 23,
   "metadata": {},
   "outputs": [
    {
     "name": "stdout",
     "output_type": "stream",
     "text": [
      "Num Topics = 0  has Coherence Value of 0.21\n",
      "Num Topics = 2  has Coherence Value of 0.3\n",
      "Num Topics = 4  has Coherence Value of 0.26\n",
      "Num Topics = 6  has Coherence Value of 0.32\n",
      "Num Topics = 8  has Coherence Value of 0.33\n"
     ]
    }
   ],
   "source": [
    "# Print the coherence scores\n",
    "for m, cv in zip(x, coherence_values):\n",
    "    print(\"Num Topics =\", m, \" has Coherence Value of\", round(cv, 2))"
   ]
  },
  {
   "cell_type": "code",
   "execution_count": 24,
   "metadata": {},
   "outputs": [
    {
     "name": "stdout",
     "output_type": "stream",
     "text": [
      "[(0,\n",
      "  '0.082*\"yeman\" + 0.070*\"houthi\" + 0.052*\"yemeni\" + 0.048*\"terrorism\" + '\n",
      "  '0.024*\"house\" + 0.023*\"life\" + 0.021*\"control\" + 0.019*\"result\" + '\n",
      "  '0.017*\"region\" + 0.016*\"face\"'),\n",
      " (1,\n",
      "  '0.140*\"child\" + 0.063*\"recruit\" + 0.049*\"mine\" + 0.039*\"home\" + '\n",
      "  '0.030*\"kill\" + 0.027*\"aid\" + 0.026*\"plant\" + 0.025*\"blow\" + 0.025*\"family\" '\n",
      "  '+ 0.021*\"yemeni\"'),\n",
      " (2,\n",
      "  '0.157*\"houthis\" + 0.055*\"death\" + 0.054*\"crime\" + 0.029*\"terrorist\" + '\n",
      "  '0.023*\"commit\" + 0.022*\"slogan\" + 0.021*\"america\" + 0.018*\"movement\" + '\n",
      "  '0.014*\"people\" + 0.013*\"friend\"'),\n",
      " (3,\n",
      "  '0.144*\"group\" + 0.088*\"terrorist\" + 0.071*\"houthi\" + 0.040*\"ansar\" + '\n",
      "  '0.039*\"allah\" + 0.033*\"yeman\" + 0.029*\"nazi\" + 0.027*\"racist\" + '\n",
      "  '0.024*\"human\" + 0.023*\"peace\"'),\n",
      " (4,\n",
      "  '0.079*\"houthi\" + 0.059*\"kill\" + 0.050*\"militia\" + 0.040*\"woman\" + '\n",
      "  '0.038*\"thousand\" + 0.023*\"prison\" + 0.020*\"journalist\" + 0.019*\"torture\" + '\n",
      "  '0.019*\"year\" + 0.019*\"kidnap\"'),\n",
      " (5,\n",
      "  '0.159*\"houthi\" + 0.111*\"militia\" + 0.029*\"freedom\" + 0.027*\"humanitarian\" + '\n",
      "  '0.025*\"taiz\" + 0.024*\"iranian\" + 0.020*\"state\" + 0.020*\"city\" + '\n",
      "  '0.016*\"coup\" + 0.015*\"silence\"'),\n",
      " (6,\n",
      "  '0.091*\"yemeni\" + 0.086*\"houthis\" + 0.060*\"people\" + 0.036*\"school\" + '\n",
      "  '0.034*\"war\" + 0.028*\"fight\" + 0.023*\"front\" + 0.023*\"world\" + 0.020*\"send\" '\n",
      "  '+ 0.015*\"year\"'),\n",
      " (7,\n",
      "  '0.102*\"terrorist\" + 0.063*\"organization\" + 0.049*\"amp\" + 0.043*\"isis\" + '\n",
      "  '0.028*\"qaeda\" + 0.027*\"international\" + 0.026*\"call\" + 0.026*\"support\" + '\n",
      "  '0.018*\"violation\" + 0.017*\"accord\"'),\n",
      " (8,\n",
      "  '0.050*\"civilian\" + 0.046*\"force\" + 0.044*\"political\" + 0.030*\"amp\" + '\n",
      "  '0.030*\"violence\" + 0.030*\"international\" + 0.029*\"yeman\" + 0.028*\"world\" + '\n",
      "  '0.027*\"government\" + 0.020*\"terrorism\"')]\n"
     ]
    }
   ],
   "source": [
    "optimal_model = model_list[4]\n",
    "model_topics = optimal_model.show_topics(formatted=False)\n",
    "pprint(optimal_model.print_topics(num_words=10))"
   ]
  },
  {
   "cell_type": "code",
   "execution_count": null,
   "metadata": {},
   "outputs": [],
   "source": []
  },
  {
   "cell_type": "markdown",
   "metadata": {},
   "source": [
    "# Select Dominant_topic_ids"
   ]
  },
  {
   "cell_type": "code",
   "execution_count": 25,
   "metadata": {},
   "outputs": [
    {
     "data": {
      "text/plain": [
       "[7, 4, 8, 0, 6]"
      ]
     },
     "execution_count": 25,
     "metadata": {},
     "output_type": "execute_result"
    }
   ],
   "source": [
    "def getDominantTopics():\n",
    "        # get topic weight matrix using lda.inference\n",
    "        # the matrix has dimensions (num documents) x (num topics)\n",
    "        inference = lda_model.inference(corpus)\n",
    "        inference = inference[0] # the inference is a tuple, need the first term\n",
    "        num_topics = lda_model.num_topics\n",
    "        num_dominant_topics=5\n",
    "\n",
    "        # find dominant topics across documents (vertical sum)\n",
    "        column_sum_of_weights = np.sum(inference, axis=0)\n",
    "        sorted_weight_indices = np.argsort(column_sum_of_weights)\n",
    "        idx = np.arange(num_topics - num_dominant_topics, num_topics)\n",
    "        dominant_topic_ids = sorted_weight_indices[idx]\n",
    "        # the dominant_topic_ids store the ids in descending order of dominance\n",
    "        dominant_topic_ids = dominant_topic_ids[::-1]\n",
    "        \n",
    "#        print(dominant_topic_ids)\n",
    "        return dominant_topic_ids.tolist()\n",
    "    \n",
    "dominant_topic_ids=getDominantTopics()\n",
    "dominant_topic_ids"
   ]
  },
  {
   "cell_type": "code",
   "execution_count": null,
   "metadata": {},
   "outputs": [],
   "source": []
  },
  {
   "cell_type": "markdown",
   "metadata": {},
   "source": [
    "# Select top_terms for Dominant_topic"
   ]
  },
  {
   "cell_type": "code",
   "execution_count": 26,
   "metadata": {},
   "outputs": [],
   "source": [
    "def topic_term():\n",
    "    token=[]\n",
    "    for ki in dominant_topic_ids:\n",
    "        topic_terms =ldamallet.show_topic(ki)\n",
    "        terms = [t[0] for t in topic_terms]\n",
    "        weights = [w[1] for w in topic_terms]\n",
    "#        print ('The top {:d} terms and corresponding weights are:'.format(ki))\n",
    "#        for term, weight in zip(terms, weights):\n",
    "        for term in terms:\n",
    "            token.append(term)\n",
    "#            print ('  {:s} ({:5.4f})'.format(term, weight))\n",
    "    return token\n",
    "top_terms=topic_term()\n"
   ]
  },
  {
   "cell_type": "markdown",
   "metadata": {},
   "source": [
    "# Documents Classification based on  Dominant_topic "
   ]
  },
  {
   "cell_type": "code",
   "execution_count": 27,
   "metadata": {},
   "outputs": [],
   "source": [
    "import operator\n",
    "filtered_by_topic_id=[]\n",
    "def get_high_w(distributions):\n",
    "    dic={}\n",
    "    for k, distribution in enumerate(distributions):\n",
    "        filtered = [d for d in distribution]\n",
    "        if filtered[0] in dominant_topic_ids:  \n",
    "            dic.update({filtered[0]:filtered[1]})\n",
    "    sorted_x = sorted(dic.items(), key=operator.itemgetter(1))\n",
    "    return sorted_x[-1]\n",
    "   "
   ]
  },
  {
   "cell_type": "code",
   "execution_count": null,
   "metadata": {},
   "outputs": [],
   "source": [
    "from nltk import word_tokenize\n",
    "import operator\n",
    "Data_classification=pd.DataFrame()\n",
    "sent_topics_df = pd.DataFrame()\n",
    "get_document_topics = lda_model.get_document_topics\n",
    "for sentences in data:\n",
    "    tkns = word_tokenize(sentences)\n",
    "    bow = id2word.doc2bow(tkns)\n",
    "    distributions=get_document_topics(bow)\n",
    "    doc=get_high_w(distributions)\n",
    "    topic_terms=ldamallet.show_topic(doc[0])\n",
    "    terms = [t[0] for t in topic_terms]\n",
    "    Data_classification=Data_classification.append(pd.Series([int(doc[0]), sentences]), ignore_index=True)\n",
    "    sent_topics_df = sent_topics_df.append(pd.Series([int(doc[0]), round(doc[1],6), terms, sentences]), ignore_index=True)\n",
    "\n"
   ]
  },
  {
   "cell_type": "markdown",
   "metadata": {},
   "source": [
    "# Create Dataset "
   ]
  },
  {
   "cell_type": "code",
   "execution_count": 32,
   "metadata": {},
   "outputs": [],
   "source": [
    "Data_classification.columns = ['Dominant_Topic', 'Text']\n",
    "\n"
   ]
  },
  {
   "cell_type": "code",
   "execution_count": 33,
   "metadata": {},
   "outputs": [],
   "source": [
    "sent_topics_df.columns = ['Dominant_Topic','Topic_Perc_Contrib','Topic_Term', 'Text']\n"
   ]
  },
  {
   "cell_type": "code",
   "execution_count": 34,
   "metadata": {},
   "outputs": [],
   "source": [
    "Data_classification.to_csv('Data_Classification_full.csv')"
   ]
  },
  {
   "cell_type": "code",
   "execution_count": 35,
   "metadata": {},
   "outputs": [],
   "source": [
    "sent_topics_df.to_csv('LDA_Data_full.csv')"
   ]
  },
  {
   "cell_type": "code",
   "execution_count": null,
   "metadata": {},
   "outputs": [],
   "source": []
  },
  {
   "cell_type": "code",
   "execution_count": null,
   "metadata": {},
   "outputs": [],
   "source": []
  },
  {
   "cell_type": "code",
   "execution_count": null,
   "metadata": {},
   "outputs": [],
   "source": []
  },
  {
   "cell_type": "code",
   "execution_count": null,
   "metadata": {},
   "outputs": [],
   "source": []
  }
 ],
 "metadata": {
  "kernelspec": {
   "display_name": "Python 3",
   "language": "python",
   "name": "python3"
  },
  "language_info": {
   "codemirror_mode": {
    "name": "ipython",
    "version": 3
   },
   "file_extension": ".py",
   "mimetype": "text/x-python",
   "name": "python",
   "nbconvert_exporter": "python",
   "pygments_lexer": "ipython3",
   "version": "3.7.4"
  }
 },
 "nbformat": 4,
 "nbformat_minor": 4
}
