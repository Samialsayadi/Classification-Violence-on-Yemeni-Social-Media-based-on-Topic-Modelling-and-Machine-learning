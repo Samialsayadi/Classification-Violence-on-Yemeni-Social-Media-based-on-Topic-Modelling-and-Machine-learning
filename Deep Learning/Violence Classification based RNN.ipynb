{
 "cells": [
  {
   "cell_type": "code",
   "execution_count": 2,
   "metadata": {},
   "outputs": [],
   "source": [
    "from keras.layers import Dropout, Dense, GRU, Embedding\n",
    "from keras.models import Sequential\n",
    "from sklearn.feature_extraction.text import TfidfVectorizer\n",
    "import numpy as np\n",
    "from sklearn import metrics\n",
    "from keras.preprocessing.text import Tokenizer\n",
    "from keras.utils.data_utils import pad_sequences\n",
    "import pandas as pd\n",
    "from sklearn.model_selection import train_test_split\n",
    "from sklearn import model_selection, naive_bayes, svm"
   ]
  },
  {
   "cell_type": "code",
   "execution_count": 3,
   "metadata": {},
   "outputs": [],
   "source": [
    "def loadData_Tokenizer(X_train, X_test,MAX_NB_WORDS=75000,MAX_SEQUENCE_LENGTH=500):\n",
    "    np.random.seed(7)\n",
    "    text = np.concatenate((X_train, X_test), axis=0)\n",
    "    text = np.array(text)\n",
    "    tokenizer = Tokenizer(num_words=MAX_NB_WORDS)\n",
    "    tokenizer.fit_on_texts(text)\n",
    "    sequences = tokenizer.texts_to_sequences(text)\n",
    "    word_index = tokenizer.word_index\n",
    "    text = pad_sequences(sequences, maxlen=MAX_SEQUENCE_LENGTH)\n",
    "    print('Found %s unique tokens.' % len(word_index))\n",
    "    indices = np.arange(text.shape[0])\n",
    "    # np.random.shuffle(indices)\n",
    "    text = text[indices]\n",
    "    print(text.shape)\n",
    "    X_train = text[0:len(X_train), ]\n",
    "    X_test = text[len(X_train):, ]\n",
    "    embeddings_index = {}\n",
    "    f = open(\"glove.6B.50d.txt\", encoding=\"utf8\")\n",
    "    for line in f:\n",
    "\n",
    "        values = line.split()\n",
    "        word = values[0]\n",
    "        try:\n",
    "            coefs = np.asarray(values[1:], dtype='float32')\n",
    "        except:\n",
    "            pass\n",
    "        embeddings_index[word] = coefs\n",
    "    f.close()\n",
    "    print('Total %s word vectors.' % len(embeddings_index))\n",
    "    return (X_train, X_test, word_index,embeddings_index)"
   ]
  },
  {
   "cell_type": "markdown",
   "metadata": {},
   "source": [
    "# Violence Classification based on RNN Algorithm"
   ]
  },
  {
   "cell_type": "code",
   "execution_count": 10,
   "metadata": {},
   "outputs": [],
   "source": [
    "def Build_Model_RNN_Text(word_index, embeddings_index, nclasses,  MAX_SEQUENCE_LENGTH=500, EMBEDDING_DIM=50, dropout=0.5):\n",
    "    \"\"\"\n",
    "    def buildModel_RNN(word_index, embeddings_index, nclasses,  MAX_SEQUENCE_LENGTH=500, EMBEDDING_DIM=50, dropout=0.5):\n",
    "    word_index in word index ,\n",
    "    embeddings_index is embeddings index, look at data_helper.py\n",
    "    nClasses is number of classes,\n",
    "    MAX_SEQUENCE_LENGTH is maximum lenght of text sequences\n",
    "    \"\"\"\n",
    "\n",
    "    model = Sequential()\n",
    "    hidden_layer = 3\n",
    "    gru_node = 32\n",
    "\n",
    "    embedding_matrix = np.random.random((len(word_index) + 1, EMBEDDING_DIM))\n",
    "    for word, i in word_index.items():\n",
    "        embedding_vector = embeddings_index.get(word)\n",
    "        if embedding_vector is not None:\n",
    "            # words not found in embedding index will be all-zeros.\n",
    "            if len(embedding_matrix[i]) != len(embedding_vector):\n",
    "                print(\"could not broadcast input array from shape\", str(len(embedding_matrix[i])),\n",
    "                      \"into shape\", str(len(embedding_vector)), \" Please make sure your\"\n",
    "                                                                \" EMBEDDING_DIM is equal to embedding_vector file ,GloVe,\")\n",
    "                exit(1)\n",
    "            embedding_matrix[i] = embedding_vector\n",
    "    model.add(Embedding(len(word_index) + 1,\n",
    "                                EMBEDDING_DIM,\n",
    "                                weights=[embedding_matrix],\n",
    "                                input_length=MAX_SEQUENCE_LENGTH,\n",
    "                                trainable=True))\n",
    "\n",
    "\n",
    "    print(gru_node)\n",
    "    for i in range(0,hidden_layer):\n",
    "        model.add(GRU(gru_node,return_sequences=True, recurrent_dropout=0.2))\n",
    "        model.add(Dropout(dropout))\n",
    "    model.add(GRU(gru_node, recurrent_dropout=0.2))\n",
    "    model.add(Dropout(dropout))\n",
    "    model.add(Dense(256, activation='relu'))\n",
    "    model.add(Dense(5, activation='softmax'))\n",
    "\n",
    "\n",
    "    model.compile(loss='sparse_categorical_crossentropy',\n",
    "                      optimizer='adam',\n",
    "                      metrics=['accuracy'])\n",
    "    return model"
   ]
  },
  {
   "cell_type": "markdown",
   "metadata": {},
   "source": [
    "# Dataset for Violence in Yemens Social Media"
   ]
  },
  {
   "cell_type": "code",
   "execution_count": 5,
   "metadata": {},
   "outputs": [
    {
     "name": "stderr",
     "output_type": "stream",
     "text": [
      "/opt/anaconda3/lib/python3.7/site-packages/IPython/core/interactiveshell.py:3441: DtypeWarning: Columns (8,9,10,11,12) have mixed types.Specify dtype option on import or set low_memory=False.\n",
      "  exec(code_obj, self.user_global_ns, self.user_ns)\n"
     ]
    }
   ],
   "source": [
    "import nltk \n",
    "words = set(nltk.corpus.words.words())\n",
    "Corpus = pd.read_csv(r\"Violence in Yemens Social Media.csv\", sep=';')\n",
    "list_term=[]\n",
    "for term in Corpus.Text:\n",
    "    sent = \" \".join(w for w in nltk.wordpunct_tokenize(term) if w.lower() in words or not w.isalpha())\n",
    "    list_term.append(sent)\n",
    "dic={'Text':list_term, 'Dominant_Topic':Corpus.Dominant_Topic}\n",
    "Corpus=pd.DataFrame(dic)"
   ]
  },
  {
   "cell_type": "code",
   "execution_count": 7,
   "metadata": {},
   "outputs": [],
   "source": [
    "\n",
    "X_train, X_test, y_train, y_test = model_selection.train_test_split(Corpus['Text'],Corpus['Dominant_Topic'],test_size=0.2)"
   ]
  },
  {
   "cell_type": "code",
   "execution_count": 8,
   "metadata": {},
   "outputs": [
    {
     "name": "stdout",
     "output_type": "stream",
     "text": [
      "Found 7163 unique tokens.\n",
      "(77062, 500)\n",
      "Total 400000 word vectors.\n"
     ]
    }
   ],
   "source": [
    "X_train_Glove,X_test_Glove, word_index,embeddings_index = loadData_Tokenizer(X_train,X_test)"
   ]
  },
  {
   "cell_type": "code",
   "execution_count": 12,
   "metadata": {},
   "outputs": [
    {
     "name": "stdout",
     "output_type": "stream",
     "text": [
      "32\n",
      "Epoch 1/15\n",
      "482/482 - 823s - loss: 0.7313 - accuracy: 0.7500 - val_loss: 0.3003 - val_accuracy: 0.9107 - 823s/epoch - 2s/step\n",
      "Epoch 2/15\n",
      "482/482 - 767s - loss: 0.2833 - accuracy: 0.9217 - val_loss: 0.2169 - val_accuracy: 0.9391 - 767s/epoch - 2s/step\n",
      "Epoch 3/15\n",
      "482/482 - 840s - loss: 0.2040 - accuracy: 0.9446 - val_loss: 0.1989 - val_accuracy: 0.9485 - 840s/epoch - 2s/step\n",
      "Epoch 4/15\n",
      "482/482 - 1647s - loss: 0.1640 - accuracy: 0.9558 - val_loss: 0.1685 - val_accuracy: 0.9579 - 1647s/epoch - 3s/step\n",
      "Epoch 5/15\n",
      "482/482 - 1012s - loss: 0.1404 - accuracy: 0.9635 - val_loss: 0.1658 - val_accuracy: 0.9613 - 1012s/epoch - 2s/step\n",
      "Epoch 6/15\n",
      "482/482 - 736s - loss: 0.1234 - accuracy: 0.9676 - val_loss: 0.1532 - val_accuracy: 0.9636 - 736s/epoch - 2s/step\n",
      "Epoch 7/15\n",
      "482/482 - 1071s - loss: 0.1106 - accuracy: 0.9709 - val_loss: 0.1697 - val_accuracy: 0.9632 - 1071s/epoch - 2s/step\n",
      "Epoch 8/15\n",
      "482/482 - 1206s - loss: 0.1011 - accuracy: 0.9740 - val_loss: 0.1640 - val_accuracy: 0.9661 - 1206s/epoch - 3s/step\n",
      "Epoch 9/15\n",
      "482/482 - 994s - loss: 0.0950 - accuracy: 0.9760 - val_loss: 0.1480 - val_accuracy: 0.9672 - 994s/epoch - 2s/step\n",
      "Epoch 10/15\n",
      "482/482 - 1330s - loss: 0.0887 - accuracy: 0.9780 - val_loss: 0.1528 - val_accuracy: 0.9692 - 1330s/epoch - 3s/step\n",
      "Epoch 11/15\n",
      "482/482 - 1035s - loss: 0.0810 - accuracy: 0.9793 - val_loss: 0.1542 - val_accuracy: 0.9701 - 1035s/epoch - 2s/step\n",
      "Epoch 12/15\n",
      "482/482 - 918s - loss: 0.0769 - accuracy: 0.9811 - val_loss: 0.1532 - val_accuracy: 0.9686 - 918s/epoch - 2s/step\n",
      "Epoch 13/15\n",
      "482/482 - 974s - loss: 0.0733 - accuracy: 0.9823 - val_loss: 0.1619 - val_accuracy: 0.9698 - 974s/epoch - 2s/step\n",
      "Epoch 14/15\n",
      "482/482 - 921s - loss: 0.0723 - accuracy: 0.9819 - val_loss: 0.1577 - val_accuracy: 0.9705 - 921s/epoch - 2s/step\n",
      "Epoch 15/15\n",
      "482/482 - 978s - loss: 0.0676 - accuracy: 0.9835 - val_loss: 0.1628 - val_accuracy: 0.9699 - 978s/epoch - 2s/step\n"
     ]
    },
    {
     "data": {
      "text/plain": [
       "<keras.callbacks.History at 0x7f88bc469c10>"
      ]
     },
     "execution_count": 12,
     "metadata": {},
     "output_type": "execute_result"
    }
   ],
   "source": [
    "model_RNN = Build_Model_RNN_Text(word_index,embeddings_index, 5,500)\n",
    "model_RNN.fit(X_train_Glove, y_train,\n",
    "                              validation_data=(X_test_Glove, y_test),\n",
    "                              epochs=15,\n",
    "                              batch_size=128,\n",
    "                              verbose=2)"
   ]
  },
  {
   "cell_type": "code",
   "execution_count": 13,
   "metadata": {},
   "outputs": [],
   "source": [
    "term_topic0=['violence', 'organization', 'government', 'practice', 'objective', 'social', 'religious', 'state', 'hundred', 'unlawful']\n",
    "term_topic1=['terrorist', 'militia', 'people', 'yemeni', 'houthi', 'year', 'eman', 'girl', 'village', 'support']\n",
    "term_topic3=['mine', 'international', 'home', 'plant', 'city', 'displace', 'terror', 'blow', 'threat', 'face']\n",
    "term_topic4=['group', 'crime', 'life', 'take', 'racist', 'believe', 'call', 'control', 'send', 'carry']\n",
    "term_topic5=['child', 'kill', 'recruit', 'political', 'houthis', 'civilian', 'war', 'woman', 'force', 'taiz']"
   ]
  },
  {
   "cell_type": "code",
   "execution_count": 14,
   "metadata": {},
   "outputs": [],
   "source": [
    "Topic0=\"Religious organization violence\"\n",
    "Topic1=\"Houthi militias terrorize Yemeni people\"\n",
    "Topic3=\"international peace threats\"\n",
    "Topic4=\"Racist Tendencies\"\n",
    "Topic5=\"Recruitment and killing of children\""
   ]
  },
  {
   "cell_type": "code",
   "execution_count": 15,
   "metadata": {},
   "outputs": [
    {
     "name": "stdout",
     "output_type": "stream",
     "text": [
      "482/482 [==============================] - 106s 214ms/step\n"
     ]
    }
   ],
   "source": [
    "predicted = model_RNN.predict(X_test_Glove)\n",
    "predicted = np.argmax(predicted, axis=1)"
   ]
  },
  {
   "cell_type": "code",
   "execution_count": 16,
   "metadata": {},
   "outputs": [
    {
     "name": "stdout",
     "output_type": "stream",
     "text": [
      "                                         precision    recall  f1-score   support\n",
      "\n",
      "        Religious organization violence       0.97      0.96      0.97      1288\n",
      "Houthi militias terrorize Yemeni people       0.98      0.98      0.98      8455\n",
      "            international peace threats       0.94      0.96      0.95      1110\n",
      "                      Racist Tendencies       0.97      0.96      0.97      2028\n",
      "    Recruitment and killing of children       0.95      0.95      0.95      2532\n",
      "\n",
      "                               accuracy                           0.97     15413\n",
      "                              macro avg       0.96      0.96      0.96     15413\n",
      "                           weighted avg       0.97      0.97      0.97     15413\n",
      "\n"
     ]
    }
   ],
   "source": [
    "from sklearn.metrics import classification_report\n",
    "\n",
    "target_names = [Topic0, Topic1, Topic3, Topic4, Topic5]\n",
    "report=classification_report(y_test, predicted, target_names=target_names, digits=2)\n",
    "print(report)"
   ]
  },
  {
   "cell_type": "code",
   "execution_count": null,
   "metadata": {},
   "outputs": [],
   "source": []
  },
  {
   "cell_type": "code",
   "execution_count": null,
   "metadata": {},
   "outputs": [],
   "source": []
  }
 ],
 "metadata": {
  "kernelspec": {
   "display_name": "Python 3",
   "language": "python",
   "name": "python3"
  },
  "language_info": {
   "codemirror_mode": {
    "name": "ipython",
    "version": 3
   },
   "file_extension": ".py",
   "mimetype": "text/x-python",
   "name": "python",
   "nbconvert_exporter": "python",
   "pygments_lexer": "ipython3",
   "version": "3.7.4"
  }
 },
 "nbformat": 4,
 "nbformat_minor": 4
}
