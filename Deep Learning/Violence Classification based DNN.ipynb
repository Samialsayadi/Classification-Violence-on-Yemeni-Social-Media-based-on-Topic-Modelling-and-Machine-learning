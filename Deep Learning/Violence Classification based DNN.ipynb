{
 "cells": [
  {
   "cell_type": "code",
   "execution_count": 1,
   "metadata": {
    "executionInfo": {
     "elapsed": 2558,
     "status": "ok",
     "timestamp": 1653939281726,
     "user": {
      "displayName": "Sami AL-sayadi",
      "userId": "08133881237036943656"
     },
     "user_tz": -120
    },
    "id": "UKn8sGcOo3aa"
   },
   "outputs": [],
   "source": [
    "from sklearn.datasets import fetch_20newsgroups\n",
    "from keras.layers import  Dropout, Dense\n",
    "from keras.models import Sequential\n",
    "from sklearn.feature_extraction.text import TfidfVectorizer\n",
    "import numpy as np\n",
    "import pandas as pd\n",
    "from sklearn import metrics\n",
    "from sklearn.model_selection import train_test_split\n",
    "from sklearn import model_selection, naive_bayes, svm\n",
    "\n",
    "\n"
   ]
  },
  {
   "cell_type": "code",
   "execution_count": 18,
   "metadata": {
    "colab": {
     "base_uri": "https://localhost:8080/"
    },
    "executionInfo": {
     "elapsed": 28991,
     "status": "ok",
     "timestamp": 1653939584178,
     "user": {
      "displayName": "Sami AL-sayadi",
      "userId": "08133881237036943656"
     },
     "user_tz": -120
    },
    "id": "hI2IjIADo-Qt",
    "outputId": "395f2a3d-65f4-44d8-a1c1-bc689ecd4d4e"
   },
   "outputs": [
    {
     "name": "stdout",
     "output_type": "stream",
     "text": [
      "Mounted at /content/gdrive\n"
     ]
    }
   ],
   "source": [
    "from google.colab import drive\n",
    "drive.mount('/content/gdrive')\n"
   ]
  },
  {
   "cell_type": "code",
   "execution_count": 19,
   "metadata": {
    "executionInfo": {
     "elapsed": 1005,
     "status": "ok",
     "timestamp": 1653939619897,
     "user": {
      "displayName": "Sami AL-sayadi",
      "userId": "08133881237036943656"
     },
     "user_tz": -120
    },
    "id": "wxuyEn6JQwGW"
   },
   "outputs": [],
   "source": [
    "path=\"/content/gdrive/MyDrive/Github/Detection_Violence/DL/\""
   ]
  },
  {
   "cell_type": "code",
   "execution_count": 20,
   "metadata": {
    "executionInfo": {
     "elapsed": 5,
     "status": "ok",
     "timestamp": 1653939621609,
     "user": {
      "displayName": "Sami AL-sayadi",
      "userId": "08133881237036943656"
     },
     "user_tz": -120
    },
    "id": "kZahTiPPaxtW"
   },
   "outputs": [],
   "source": [
    "path2=\"/content/gdrive/MyDrive/Github/LDA/\""
   ]
  },
  {
   "cell_type": "code",
   "execution_count": 21,
   "metadata": {
    "executionInfo": {
     "elapsed": 5,
     "status": "ok",
     "timestamp": 1653939624211,
     "user": {
      "displayName": "Sami AL-sayadi",
      "userId": "08133881237036943656"
     },
     "user_tz": -120
    },
    "id": "-xvC4pB2o3aq"
   },
   "outputs": [],
   "source": [
    "def TFIDF(X_train, X_test,MAX_NB_WORDS=75000):\n",
    "    vectorizer_x = TfidfVectorizer(max_features=MAX_NB_WORDS)\n",
    "    X_train = vectorizer_x.fit_transform(X_train).toarray()\n",
    "    X_test = vectorizer_x.transform(X_test).toarray()\n",
    "    print(\"tf-idf with\",str(np.array(X_train).shape[1]),\"features\")\n",
    "    return (X_train,X_test)"
   ]
  },
  {
   "cell_type": "markdown",
   "metadata": {
    "id": "J9vcjbJto3as"
   },
   "source": [
    "# Violence classification based Deep Neural Network "
   ]
  },
  {
   "cell_type": "code",
   "execution_count": 22,
   "metadata": {
    "executionInfo": {
     "elapsed": 4,
     "status": "ok",
     "timestamp": 1653939625981,
     "user": {
      "displayName": "Sami AL-sayadi",
      "userId": "08133881237036943656"
     },
     "user_tz": -120
    },
    "id": "0gT9VRMso3au"
   },
   "outputs": [],
   "source": [
    "def Build_Model_DNN_Text(shape, nClasses, dropout=0.5):\n",
    "    \"\"\"\n",
    "    buildModel_DNN_Tex(shape, nClasses,dropout)\n",
    "    Build Deep neural networks Model for text classification\n",
    "    Shape is input feature space\n",
    "    nClasses is number of classes\n",
    "    \"\"\"\n",
    "    model = Sequential()\n",
    "    node = 512 # number of nodes\n",
    "    nLayers = 4 # number of  hidden layer\n",
    "\n",
    "    model.add(Dense(node,input_dim=shape,activation='relu'))\n",
    "    model.add(Dropout(dropout))\n",
    "    for i in range(0,nLayers):\n",
    "        model.add(Dense(node,input_dim=node,activation='relu'))\n",
    "        model.add(Dropout(dropout))\n",
    "    model.add(Dense(nClasses, activation='softmax'))\n",
    "\n",
    "    model.compile(loss='sparse_categorical_crossentropy',\n",
    "                  optimizer='adam',\n",
    "                  metrics=['accuracy'])\n",
    "\n",
    "    return model"
   ]
  },
  {
   "cell_type": "code",
   "execution_count": 6,
   "metadata": {
    "colab": {
     "base_uri": "https://localhost:8080/"
    },
    "executionInfo": {
     "elapsed": 954,
     "status": "ok",
     "timestamp": 1653939332371,
     "user": {
      "displayName": "Sami AL-sayadi",
      "userId": "08133881237036943656"
     },
     "user_tz": -120
    },
    "id": "j17EJDeMd1BS",
    "outputId": "8cd35036-1d61-4976-c6b2-41321496546c"
   },
   "outputs": [
    {
     "name": "stdout",
     "output_type": "stream",
     "text": [
      "[nltk_data] Downloading package words to /root/nltk_data...\n",
      "[nltk_data]   Unzipping corpora/words.zip.\n"
     ]
    }
   ],
   "source": [
    "import nltk \n",
    "nltk.download('words')\n",
    "words = set(nltk.corpus.words.words())"
   ]
  },
  {
   "cell_type": "markdown",
   "metadata": {},
   "source": [
    "# Collection Data - (Violence in Yemens Social Media)"
   ]
  },
  {
   "cell_type": "code",
   "execution_count": 23,
   "metadata": {
    "colab": {
     "base_uri": "https://localhost:8080/"
    },
    "executionInfo": {
     "elapsed": 2725,
     "status": "ok",
     "timestamp": 1653939632465,
     "user": {
      "displayName": "Sami AL-sayadi",
      "userId": "08133881237036943656"
     },
     "user_tz": -120
    },
    "id": "qhZ5u8AyeWKb",
    "outputId": "07049a10-d028-47b5-e008-893b4deffc1b"
   },
   "outputs": [
    {
     "name": "stderr",
     "output_type": "stream",
     "text": [
      "/usr/local/lib/python3.7/dist-packages/IPython/core/interactiveshell.py:2882: DtypeWarning: Columns (8,9,10,11,12) have mixed types.Specify dtype option on import or set low_memory=False.\n",
      "  exec(code_obj, self.user_global_ns, self.user_ns)\n"
     ]
    }
   ],
   "source": [
    "Corpus = pd.read_csv(path+\"Violence in Yemens Social Media.csv\", sep=';')\n"
   ]
  },
  {
   "cell_type": "code",
   "execution_count": 24,
   "metadata": {
    "colab": {
     "base_uri": "https://localhost:8080/"
    },
    "executionInfo": {
     "elapsed": 2261,
     "status": "ok",
     "timestamp": 1653939638444,
     "user": {
      "displayName": "Sami AL-sayadi",
      "userId": "08133881237036943656"
     },
     "user_tz": -120
    },
    "id": "Lq78OhNadwUe",
    "outputId": "0033f9a8-c61b-48e1-bf65-2b9e6232fa6a"
   },
   "outputs": [
    {
     "name": "stderr",
     "output_type": "stream",
     "text": [
      "/usr/local/lib/python3.7/dist-packages/IPython/core/interactiveshell.py:2882: DtypeWarning: Columns (8,9,10,11,12) have mixed types.Specify dtype option on import or set low_memory=False.\n",
      "  exec(code_obj, self.user_global_ns, self.user_ns)\n"
     ]
    }
   ],
   "source": [
    "import nltk \n",
    "words = set(nltk.corpus.words.words())\n",
    "Corpus = pd.read_csv(path2+\"Violence in Yemens Social Media.csv\", sep=';')\n",
    "list_term=[]\n",
    "for term in Corpus.Text:\n",
    "    sent = \" \".join(w for w in nltk.wordpunct_tokenize(term) if w.lower() in words or not w.isalpha())\n",
    "    list_term.append(sent)\n",
    "dic={'Text':list_term, 'Dominant_Topic':Corpus.Dominant_Topic}\n",
    "Corpus=pd.DataFrame(dic)"
   ]
  },
  {
   "cell_type": "code",
   "execution_count": null,
   "metadata": {
    "id": "OGpjtBRdgevP"
   },
   "outputs": [],
   "source": []
  },
  {
   "cell_type": "markdown",
   "metadata": {
    "id": "-3tMM524o3aw"
   },
   "source": [
    "# Violence Classification  corpus into  with 5 Topic "
   ]
  },
  {
   "cell_type": "code",
   "execution_count": null,
   "metadata": {
    "id": "PLynMXjAV-yj"
   },
   "outputs": [],
   "source": []
  },
  {
   "cell_type": "code",
   "execution_count": null,
   "metadata": {
    "id": "sSfLld0MT1hF"
   },
   "outputs": [],
   "source": [
    "Corpus=Corpus.iloc[:50000]\n"
   ]
  },
  {
   "cell_type": "code",
   "execution_count": 25,
   "metadata": {
    "executionInfo": {
     "elapsed": 518,
     "status": "ok",
     "timestamp": 1653939650530,
     "user": {
      "displayName": "Sami AL-sayadi",
      "userId": "08133881237036943656"
     },
     "user_tz": -120
    },
    "id": "CgwFQhdcVdTU"
   },
   "outputs": [],
   "source": [
    "X_train, X_test, y_train, y_test = model_selection.train_test_split(Corpus['Text'],Corpus['Dominant_Topic'],test_size=0.2)\n"
   ]
  },
  {
   "cell_type": "code",
   "execution_count": 26,
   "metadata": {
    "colab": {
     "base_uri": "https://localhost:8080/"
    },
    "executionInfo": {
     "elapsed": 4225,
     "status": "ok",
     "timestamp": 1653939658515,
     "user": {
      "displayName": "Sami AL-sayadi",
      "userId": "08133881237036943656"
     },
     "user_tz": -120
    },
    "id": "zOSBMfkoQlXm",
    "outputId": "765bc04c-909c-4787-f1b0-d45e1485fb4e"
   },
   "outputs": [
    {
     "name": "stdout",
     "output_type": "stream",
     "text": [
      "tf-idf with 6330 features\n"
     ]
    }
   ],
   "source": [
    "X_train_tfidf,X_test_tfidf = TFIDF(X_train,X_test)\n"
   ]
  },
  {
   "cell_type": "code",
   "execution_count": 27,
   "metadata": {
    "colab": {
     "base_uri": "https://localhost:8080/"
    },
    "executionInfo": {
     "elapsed": 29009,
     "status": "ok",
     "timestamp": 1653939693850,
     "user": {
      "displayName": "Sami AL-sayadi",
      "userId": "08133881237036943656"
     },
     "user_tz": -120
    },
    "id": "Dpu9KcPlo3ay",
    "outputId": "46609148-1acc-45c0-a64f-53a28bba3fac"
   },
   "outputs": [
    {
     "name": "stdout",
     "output_type": "stream",
     "text": [
      "Epoch 1/10\n",
      "241/241 - 7s - loss: 0.5882 - accuracy: 0.7664 - val_loss: 0.1601 - val_accuracy: 0.9574 - 7s/epoch - 30ms/step\n",
      "Epoch 2/10\n",
      "241/241 - 2s - loss: 0.1252 - accuracy: 0.9656 - val_loss: 0.1171 - val_accuracy: 0.9676 - 2s/epoch - 7ms/step\n",
      "Epoch 3/10\n",
      "241/241 - 2s - loss: 0.0792 - accuracy: 0.9791 - val_loss: 0.1105 - val_accuracy: 0.9713 - 2s/epoch - 7ms/step\n",
      "Epoch 4/10\n",
      "241/241 - 2s - loss: 0.0615 - accuracy: 0.9850 - val_loss: 0.1202 - val_accuracy: 0.9744 - 2s/epoch - 7ms/step\n",
      "Epoch 5/10\n",
      "241/241 - 2s - loss: 0.0520 - accuracy: 0.9872 - val_loss: 0.1144 - val_accuracy: 0.9749 - 2s/epoch - 7ms/step\n",
      "Epoch 6/10\n",
      "241/241 - 2s - loss: 0.0464 - accuracy: 0.9894 - val_loss: 0.1156 - val_accuracy: 0.9754 - 2s/epoch - 7ms/step\n",
      "Epoch 7/10\n",
      "241/241 - 2s - loss: 0.0411 - accuracy: 0.9907 - val_loss: 0.1160 - val_accuracy: 0.9746 - 2s/epoch - 7ms/step\n",
      "Epoch 8/10\n",
      "241/241 - 2s - loss: 0.0397 - accuracy: 0.9910 - val_loss: 0.1201 - val_accuracy: 0.9752 - 2s/epoch - 7ms/step\n",
      "Epoch 9/10\n",
      "241/241 - 2s - loss: 0.0370 - accuracy: 0.9915 - val_loss: 0.1209 - val_accuracy: 0.9756 - 2s/epoch - 7ms/step\n",
      "Epoch 10/10\n",
      "241/241 - 2s - loss: 0.0359 - accuracy: 0.9919 - val_loss: 0.1270 - val_accuracy: 0.9753 - 2s/epoch - 7ms/step\n"
     ]
    },
    {
     "data": {
      "text/plain": [
       "<keras.callbacks.History at 0x7f524c7b59d0>"
      ]
     },
     "execution_count": 27,
     "metadata": {},
     "output_type": "execute_result"
    }
   ],
   "source": [
    "model_DNN = Build_Model_DNN_Text(X_train_tfidf.shape[1], 5)\n",
    "model_DNN.fit(X_train_tfidf, y_train,\n",
    "                              validation_data=(X_test_tfidf, y_test),\n",
    "                              epochs=10,\n",
    "                              batch_size=256,\n",
    "                              verbose=2)"
   ]
  },
  {
   "cell_type": "code",
   "execution_count": 28,
   "metadata": {
    "executionInfo": {
     "elapsed": 1293,
     "status": "ok",
     "timestamp": 1653939704389,
     "user": {
      "displayName": "Sami AL-sayadi",
      "userId": "08133881237036943656"
     },
     "user_tz": -120
    },
    "id": "TXoD39EPo3az"
   },
   "outputs": [],
   "source": [
    "MAX_TEXT_LENGTH=46004\n",
    "Prediction = np.argmax(model_DNN.predict(X_test_tfidf[:, :MAX_TEXT_LENGTH]),axis=1)\n",
    "\n"
   ]
  },
  {
   "cell_type": "code",
   "execution_count": 34,
   "metadata": {
    "executionInfo": {
     "elapsed": 620,
     "status": "ok",
     "timestamp": 1653939995412,
     "user": {
      "displayName": "Sami AL-sayadi",
      "userId": "08133881237036943656"
     },
     "user_tz": -120
    },
    "id": "JCZF-9l9gXGv"
   },
   "outputs": [],
   "source": [
    "term_topic0=['violence', 'organization', 'government', 'practice', 'objective', 'social', 'religious', 'state', 'hundred', 'unlawful']\n",
    "term_topic1=['terrorist', 'militia', 'people', 'yemeni', 'houthi', 'year', 'eman', 'girl', 'village', 'support']\n",
    "term_topic3=['mine', 'international', 'home', 'plant', 'city', 'displace', 'terror', 'blow', 'threat', 'face']\n",
    "term_topic4=['group', 'crime', 'life', 'take', 'racist', 'believe', 'call', 'control', 'send', 'carry']\n",
    "term_topic5=['child', 'kill', 'recruit', 'political', 'houthis', 'civilian', 'war', 'woman', 'force', 'taiz']\n",
    "\n"
   ]
  },
  {
   "cell_type": "code",
   "execution_count": 35,
   "metadata": {
    "executionInfo": {
     "elapsed": 3,
     "status": "ok",
     "timestamp": 1653940003597,
     "user": {
      "displayName": "Sami AL-sayadi",
      "userId": "08133881237036943656"
     },
     "user_tz": -120
    },
    "id": "OUeYsYGFfW5s"
   },
   "outputs": [],
   "source": [
    "Topic0=\"Religious organization violence\"\n",
    "Topic1=\"Houthi militias terrorize Yemeni people\"\n",
    "Topic3=\"international peace threats\"\n",
    "Topic4=\"Racist Tendencies\"\n",
    "Topic5=\"Recruitment and killing of children\""
   ]
  },
  {
   "cell_type": "code",
   "execution_count": 36,
   "metadata": {
    "colab": {
     "base_uri": "https://localhost:8080/"
    },
    "executionInfo": {
     "elapsed": 430,
     "status": "ok",
     "timestamp": 1653940007507,
     "user": {
      "displayName": "Sami AL-sayadi",
      "userId": "08133881237036943656"
     },
     "user_tz": -120
    },
    "id": "ndMMRphgfc0o",
    "outputId": "f2b25666-75cf-403a-876e-ecdb08012aad"
   },
   "outputs": [
    {
     "name": "stdout",
     "output_type": "stream",
     "text": [
      "                                         precision    recall  f1-score   support\n",
      "\n",
      "        Religious organization violence       0.98      0.97      0.97      1318\n",
      "Houthi militias terrorize Yemeni people       0.98      0.98      0.98      8465\n",
      "            international peace threats       0.98      0.95      0.96      1117\n",
      "                      Racist Tendencies       0.97      0.97      0.97      1983\n",
      "    Recruitment and killing of children       0.96      0.96      0.96      2530\n",
      "\n",
      "                               accuracy                           0.98     15413\n",
      "                              macro avg       0.97      0.97      0.97     15413\n",
      "                           weighted avg       0.98      0.98      0.98     15413\n",
      "\n"
     ]
    }
   ],
   "source": [
    "from sklearn.metrics import classification_report\n",
    "\n",
    "target_names = [Topic0, Topic1, Topic3, Topic4, Topic5]\n",
    "report=classification_report(y_test, Prediction, target_names=target_names, digits=2)\n",
    "print(report)"
   ]
  }
 ],
 "metadata": {
  "accelerator": "GPU",
  "colab": {
   "name": "Violence Classification based DNN.ipynb",
   "provenance": []
  },
  "kernelspec": {
   "display_name": "Python 3",
   "language": "python",
   "name": "python3"
  },
  "language_info": {
   "codemirror_mode": {
    "name": "ipython",
    "version": 3
   },
   "file_extension": ".py",
   "mimetype": "text/x-python",
   "name": "python",
   "nbconvert_exporter": "python",
   "pygments_lexer": "ipython3",
   "version": "3.7.4"
  }
 },
 "nbformat": 4,
 "nbformat_minor": 4
}
